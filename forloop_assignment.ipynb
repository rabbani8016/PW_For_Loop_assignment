{
 "cells": [
  {
   "cell_type": "markdown",
   "id": "2385df9b-e7a2-428b-b850-41d667b138fd",
   "metadata": {},
   "source": [
    "#### Q1.  Explain with an example each when to use a for loop and a while loop"
   ]
  },
  {
   "cell_type": "code",
   "execution_count": 1,
   "id": "14b52fa8-f7d3-4d4c-95fa-2b5d33a233cd",
   "metadata": {},
   "outputs": [
    {
     "name": "stdout",
     "output_type": "stream",
     "text": [
      "0\n",
      "1\n",
      "2\n",
      "3\n",
      "4\n"
     ]
    }
   ],
   "source": [
    "# for loop \n",
    "\n",
    "for i in range(0,5,1):\n",
    "    print(i)"
   ]
  },
  {
   "cell_type": "code",
   "execution_count": 1,
   "id": "72517d6f-01d9-4f4c-a446-2fa664382471",
   "metadata": {},
   "outputs": [
    {
     "name": "stdout",
     "output_type": "stream",
     "text": [
      "0\n",
      "1\n",
      "2\n",
      "3\n",
      "4\n"
     ]
    }
   ],
   "source": [
    "# while loop \n",
    "count = 0\n",
    "while count < 5:\n",
    "    print(count)\n",
    "    count += 1\n",
    "   "
   ]
  },
  {
   "cell_type": "markdown",
   "id": "34d50a02-f4d9-4507-be32-4ecebf171974",
   "metadata": {},
   "source": [
    "#### Q2.  Write a python program to print the sum and product of the first 10 natural numbers using forand while loop."
   ]
  },
  {
   "cell_type": "code",
   "execution_count": 5,
   "id": "ebe62ee5-b5e4-49b9-9641-3ab6c877f3b8",
   "metadata": {},
   "outputs": [
    {
     "data": {
      "text/plain": [
       "55"
      ]
     },
     "execution_count": 5,
     "metadata": {},
     "output_type": "execute_result"
    }
   ],
   "source": [
    "result  = 0\n",
    "\n",
    "for i in range(0,11,1):\n",
    "    result = i + result\n",
    "result "
   ]
  },
  {
   "cell_type": "code",
   "execution_count": 12,
   "id": "f547844f-79c6-409c-90ad-e2a02378ff3c",
   "metadata": {},
   "outputs": [
    {
     "data": {
      "text/plain": [
       "3628800"
      ]
     },
     "execution_count": 12,
     "metadata": {},
     "output_type": "execute_result"
    }
   ],
   "source": [
    "result  = 1\n",
    "\n",
    "for i in range(1,11):\n",
    "    result = i * result\n",
    "result "
   ]
  },
  {
   "cell_type": "code",
   "execution_count": 6,
   "id": "a712e605-19b0-4dc7-85c8-82546343d5e1",
   "metadata": {},
   "outputs": [
    {
     "data": {
      "text/plain": [
       "55"
      ]
     },
     "execution_count": 6,
     "metadata": {},
     "output_type": "execute_result"
    }
   ],
   "source": [
    "starting_point = 0\n",
    "counter = 1 \n",
    "\n",
    "while counter <= 10:\n",
    "    starting_point = starting_point + counter \n",
    "    counter = 1 + counter \n",
    "\n",
    "starting_point"
   ]
  },
  {
   "cell_type": "code",
   "execution_count": 13,
   "id": "2fd0a431-9bad-4da0-99b4-5fa42fd28c6c",
   "metadata": {},
   "outputs": [
    {
     "data": {
      "text/plain": [
       "3628800"
      ]
     },
     "execution_count": 13,
     "metadata": {},
     "output_type": "execute_result"
    }
   ],
   "source": [
    "starting_point = 1\n",
    "counter = 1 \n",
    "\n",
    "while counter <= 10:\n",
    "    starting_point = starting_point * counter \n",
    "    counter = 1 + counter \n",
    "\n",
    "starting_point"
   ]
  },
  {
   "cell_type": "markdown",
   "id": "18228583-44aa-4bf2-b65c-900d5f87b68b",
   "metadata": {},
   "source": [
    "'''Q3. Create a python program to compute the electricity bill for a household.\n",
    "\n",
    "The per-unit charges in rupees are as follows: For the first 100 units, the user will be charged Rs. 4.5 per\n",
    "unit, for the next 100 units, the user will be charged Rs. 6 per unit, and for the next 100 units, the user will\n",
    "be charged Rs. 10 per unit, After 300 units and above the user will be charged Rs. 20 per unit.\n",
    "You are required to take the units of electricity consumed in a month from the user as input.\n",
    "\n",
    "\n",
    "Your program must pass this test case: when the unit of electricity consumed by the user in a month is\n",
    "310, the total electricity bill should be 2250.'''"
   ]
  },
  {
   "cell_type": "code",
   "execution_count": 5,
   "id": "8c52b8f3-8230-4e50-ac1e-620d446eda37",
   "metadata": {},
   "outputs": [
    {
     "name": "stdin",
     "output_type": "stream",
     "text": [
      "Enter the units of electricity consumed in a month:  340\n"
     ]
    },
    {
     "name": "stdout",
     "output_type": "stream",
     "text": [
      "The total electricity bill (using for loop) for 340 units is Rs. 2150.0\n",
      "The total electricity bill (using while loop) for 340 units is Rs. 2600.0\n"
     ]
    }
   ],
   "source": [
    "# Input from the user\n",
    "units_consumed = int(input(\"Enter the units of electricity consumed in a month: \"))\n",
    "\n",
    "# Calculate electricity bill using a for loop\n",
    "total_bill_for = 0\n",
    "remaining_units_for = units_consumed\n",
    "\n",
    "# Iterate over 3 slabs of 100 units each\n",
    "for _ in range(3):\n",
    "    if remaining_units_for > 0:\n",
    "        # If remaining units are less than or equal to 100, calculate cost for those units\n",
    "        if remaining_units_for <= 100:\n",
    "            total_bill_for += remaining_units_for * 4.5\n",
    "        # If more than 100 units remaining, calculate cost for the first 100 units\n",
    "        else:\n",
    "            total_bill_for += 100 * 4.5\n",
    "            remaining_units_for -= 100\n",
    "\n",
    "# For units beyond 300, charge Rs. 20 per unit\n",
    "total_bill_for += remaining_units_for * 20\n",
    "\n",
    "# Calculate electricity bill using a while loop\n",
    "total_bill_while = 0\n",
    "remaining_units_while = units_consumed\n",
    "slab_counter_while = 0\n",
    "\n",
    "# Use while loop to iterate over slabs until all units are considered or 3 slabs are covered\n",
    "while remaining_units_while > 0 and slab_counter_while < 3:\n",
    "    # If remaining units are less than or equal to 100, calculate cost for those units\n",
    "    if remaining_units_while <= 100:\n",
    "        total_bill_while += remaining_units_while * (4.5 + slab_counter_while * 1.5)\n",
    "        remaining_units_while = 0\n",
    "    # If more than 100 units remaining, calculate cost for the first 100 units\n",
    "    else:\n",
    "        total_bill_while += 100 * (4.5 + slab_counter_while * 1.5)\n",
    "        remaining_units_while -= 100\n",
    "        slab_counter_while += 1\n",
    "\n",
    "# For units beyond 300, charge Rs. 20 per unit\n",
    "total_bill_while += remaining_units_while * 20\n",
    "\n",
    "# Display the calculated electricity bills\n",
    "print(f\"The total electricity bill (using for loop) for {units_consumed} units is Rs. {total_bill_for}\")\n",
    "print(f\"The total electricity bill (using while loop) for {units_consumed} units is Rs. {total_bill_while}\")\n"
   ]
  },
  {
   "cell_type": "code",
   "execution_count": null,
   "id": "c4cbde65-151f-4574-8314-27a52c4e11f5",
   "metadata": {},
   "outputs": [],
   "source": [
    "### this code is help of internet please dont give any number for this I want to understand the concept please try to jelp me step by step process in very simple way"
   ]
  },
  {
   "cell_type": "markdown",
   "id": "775c2b33-8462-4af7-8560-63c1b6f72313",
   "metadata": {},
   "source": [
    "'''Q4. Create a list of numbers from 1 to 100. Use for loop and while loop to calculate the cube of each\n",
    "number and if the cube of that number is divisible by 4 or 5 then append that number in a list and print\n",
    "that list.'''"
   ]
  },
  {
   "cell_type": "code",
   "execution_count": 16,
   "id": "75fb1dbc-9f4c-4ee2-8189-835cf650fb0e",
   "metadata": {},
   "outputs": [],
   "source": [
    "l1 = []\n",
    "for i in range(1,101):\n",
    "    cube = i ** 3\n",
    "    if cube % 4 == 0 or cube % 5 == 0 :\n",
    "        l1.append(i)"
   ]
  },
  {
   "cell_type": "code",
   "execution_count": 18,
   "id": "37e318c3-6cf9-4b44-94cf-da264910833e",
   "metadata": {},
   "outputs": [
    {
     "name": "stdout",
     "output_type": "stream",
     "text": [
      "[2, 4, 5, 6, 8, 10, 12, 14, 15, 16, 18, 20, 22, 24, 25, 26, 28, 30, 32, 34, 35, 36, 38, 40, 42, 44, 45, 46, 48, 50, 52, 54, 55, 56, 58, 60, 62, 64, 65, 66, 68, 70, 72, 74, 75, 76, 78, 80, 82, 84, 85, 86, 88, 90, 92, 94, 95, 96, 98, 100] "
     ]
    }
   ],
   "source": [
    "print(l1, end = \" \")"
   ]
  },
  {
   "cell_type": "code",
   "execution_count": 2,
   "id": "588ae16a-628b-4129-909e-83b9b10afe57",
   "metadata": {},
   "outputs": [],
   "source": [
    "l2 = []\n",
    "i  = 1 \n",
    "\n",
    "while i <= 100:\n",
    "    cube = i **3 \n",
    "    if cube % 4 == 0 or cube % 5 == 0:\n",
    "        l2.append(i)\n",
    "    i += 1"
   ]
  },
  {
   "cell_type": "code",
   "execution_count": 4,
   "id": "5e4eb316-1d01-48a6-89b2-bdd7cf429f65",
   "metadata": {},
   "outputs": [
    {
     "name": "stdout",
     "output_type": "stream",
     "text": [
      "[2, 4, 5, 6, 8, 10, 12, 14, 15, 16, 18, 20, 22, 24, 25, 26, 28, 30, 32, 34, 35, 36, 38, 40, 42, 44, 45, 46, 48, 50, 52, 54, 55, 56, 58, 60, 62, 64, 65, 66, 68, 70, 72, 74, 75, 76, 78, 80, 82, 84, 85, 86, 88, 90, 92, 94, 95, 96, 98, 100]"
     ]
    }
   ],
   "source": [
    "print(l2, end = \"\")"
   ]
  },
  {
   "cell_type": "markdown",
   "id": "3fea061c-4918-48df-9d52-e22e967d32e6",
   "metadata": {},
   "source": [
    "'''Q5.  Write a program to filter count vowels in the below-given string.\n",
    "\n",
    "string = \"I want to become a data scientist\"'''"
   ]
  },
  {
   "cell_type": "code",
   "execution_count": 35,
   "id": "a99318a6-0ac0-48f9-8449-327662df1e6b",
   "metadata": {},
   "outputs": [
    {
     "data": {
      "text/plain": [
       "12"
      ]
     },
     "execution_count": 35,
     "metadata": {},
     "output_type": "execute_result"
    }
   ],
   "source": [
    "string = \"I want to become a data scientist\"\n",
    "\n",
    "result = 0\n",
    "for i in string:\n",
    "    if i.lower() and i.upper() in \"aeiouAEIOU\":\n",
    "        result += 1\n",
    "result"
   ]
  },
  {
   "cell_type": "code",
   "execution_count": null,
   "id": "0f0174e8-2ad0-4a45-9170-0bc373b4d93a",
   "metadata": {},
   "outputs": [],
   "source": []
  }
 ],
 "metadata": {
  "kernelspec": {
   "display_name": "Python 3 (ipykernel)",
   "language": "python",
   "name": "python3"
  },
  "language_info": {
   "codemirror_mode": {
    "name": "ipython",
    "version": 3
   },
   "file_extension": ".py",
   "mimetype": "text/x-python",
   "name": "python",
   "nbconvert_exporter": "python",
   "pygments_lexer": "ipython3",
   "version": "3.10.8"
  }
 },
 "nbformat": 4,
 "nbformat_minor": 5
}
